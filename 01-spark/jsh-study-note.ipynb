{
 "cells": [
  {
   "cell_type": "code",
   "execution_count": 1,
   "id": "38df60d8",
   "metadata": {},
   "outputs": [],
   "source": [
    "from pyspark import SparkConf, SparkContext\n",
    "from operator import add"
   ]
  },
  {
   "cell_type": "code",
   "execution_count": 2,
   "id": "04797cd1",
   "metadata": {},
   "outputs": [],
   "source": [
    "from pyspark import RDD"
   ]
  },
  {
   "cell_type": "code",
   "execution_count": 3,
   "id": "aec01375",
   "metadata": {},
   "outputs": [],
   "source": [
    "# key-value RDD\n",
    "\n",
    "# Reduction\n",
    "# reduceByKey() - 키값을 기준으로 테스크 처리\n",
    "# groupByKey() - 키값을 기준으로 벨류를 묶는다\n",
    "# sortByKey() - 키값을 기준으로 정렬\n",
    "# keys() - 키값 추출\n",
    "# values() - 벨류값 추출\n",
    "\n",
    "# Join\n",
    "# join\n",
    "# rightOuterJoin\n",
    "# leftOuterJoin\n",
    "# subtractByKey\n",
    "\n",
    "# Key value 데이터에서 key를 바꾸지 않는 경우 map 대신 mapValues를 써주면 파티션 유지에 효율적\n"
   ]
  },
  {
   "cell_type": "code",
   "execution_count": 4,
   "id": "1f13281f",
   "metadata": {},
   "outputs": [],
   "source": [
    "conf = SparkConf().setMaster(\"local\").setAppName(\"jsh-study-note\")\n",
    "sc = SparkContext(conf=conf)"
   ]
  },
  {
   "cell_type": "code",
   "execution_count": 5,
   "id": "c30b028d",
   "metadata": {},
   "outputs": [],
   "source": [
    "directory = \"/Users/jsh/data-engineering/01-spark/data\"\n",
    "#filename = \".csv\""
   ]
  },
  {
   "cell_type": "code",
   "execution_count": 6,
   "id": "bcffcd42",
   "metadata": {},
   "outputs": [],
   "source": [
    "#lines = sc.textFile(f\"file:///{directory}/{filename}\")"
   ]
  },
  {
   "cell_type": "code",
   "execution_count": null,
   "id": "af81e166",
   "metadata": {},
   "outputs": [],
   "source": [
    "# Transformations - Actions\n",
    "\n",
    "# Transformations - 결과값으로 새로운 RDD 반환\n",
    "# 지연실행 - Lazy Execution\n",
    "# map()\n",
    "# flatMap()\n",
    "# filter()\n",
    "# distinct\n",
    "# reduceByKey()\n",
    "# groupByKey()\n",
    "# mapValues()\n",
    "# flatMapValues()\n",
    "# sortByKey()\n",
    "\n",
    "# Actions - 결과값을 연산하여 출력하거나 저장\n",
    "# 즉시실행 - Eager Execution\n",
    "# collect()\n",
    "# count()\n",
    "# countByValue()\n",
    "# take()\n",
    "# top()\n",
    "# reduce()\n",
    "# fold()\n",
    "# foreach()"
   ]
  }
 ],
 "metadata": {
  "kernelspec": {
   "display_name": "Python 3",
   "language": "python",
   "name": "python3"
  },
  "language_info": {
   "codemirror_mode": {
    "name": "ipython",
    "version": 3
   },
   "file_extension": ".py",
   "mimetype": "text/x-python",
   "name": "python",
   "nbconvert_exporter": "python",
   "pygments_lexer": "ipython3",
   "version": "3.8.8"
  }
 },
 "nbformat": 4,
 "nbformat_minor": 5
}
